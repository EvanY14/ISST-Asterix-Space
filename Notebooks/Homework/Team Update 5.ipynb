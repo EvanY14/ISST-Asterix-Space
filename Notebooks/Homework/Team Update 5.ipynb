{
 "cells": [
  {
   "cell_type": "markdown",
   "source": [
    "# Team Update 5\n",
    "\n",
    "For this assignment, you'll be creating a complete version of your design system from start to finish. Modify the code cells below to reflect your design choices."
   ],
   "metadata": {
    "collapsed": false
   }
  },
  {
   "cell_type": "code",
   "execution_count": null,
   "outputs": [],
   "source": [
    "import os\n",
    "from pathlib import Path\n",
    "\n",
    "import sys\n",
    "ISST_DIR = str(Path(os.getcwd()).parent.parent.parent)\n",
    "sys.path.append(ISST_DIR)\n",
    "\n",
    "import numpy as np\n",
    "import arviz as az\n",
    "import pymc as pm\n",
    "\n",
    "import ISST"
   ],
   "metadata": {
    "collapsed": false
   }
  },
  {
   "cell_type": "markdown",
   "source": [
    "# Cost Risk Table\n",
    "\n",
    "First, create your overall cost Risk Table by completing the inputs for the Risk Table. Adjust your breakpoints and utility levels to obtain a satisfactory utility function."
   ],
   "metadata": {
    "collapsed": false
   }
  },
  {
   "cell_type": "code",
   "execution_count": null,
   "outputs": [],
   "source": [
    "Cost_Risk_Table = ISST.RiskTable(name='Cost',\n",
    "                                 units = '',\n",
    "                                 utility_breakpoints=[],\n",
    "                                 utilities=[],\n",
    "                                 utility_names=[]\n",
    "                                 )\n",
    "\n",
    "Cost_Risk_Table.plot_utilities()"
   ],
   "metadata": {
    "collapsed": false
   }
  },
  {
   "cell_type": "markdown",
   "source": [
    "# Schedule Risk Table\n",
    "\n",
    "Next, the same for your schedule risk table:"
   ],
   "metadata": {
    "collapsed": false
   }
  },
  {
   "cell_type": "code",
   "execution_count": null,
   "outputs": [],
   "source": [
    "Schedule_Risk_Table = ISST.RiskTable(name='Schedule',\n",
    "                                     units = '',\n",
    "                                     utility_breakpoints=[],\n",
    "                                     utilities=[],\n",
    "                                     utility_names=[]\n",
    "                                     )\n",
    "\n",
    "Schedule_Risk_Table.plot_utilities()"
   ],
   "metadata": {
    "collapsed": false
   }
  },
  {
   "cell_type": "markdown",
   "source": [
    "# Technical Risk Tables\n",
    "\n",
    "Next, your Technical Risk Tables. Identify the key technical parameters for each sub team, and assemble risk tables for each. There should be at minimum one risk table per sub-team, but not more than three. Copy and paste the code below as necessary, changing the variable names and the `name` parameter of the Risk Table."
   ],
   "metadata": {
    "collapsed": false
   }
  },
  {
   "cell_type": "code",
   "execution_count": null,
   "outputs": [],
   "source": [
    "T1_Risk_Table = ISST.RiskTable(name='',\n",
    "                               units = '',\n",
    "                               utility_breakpoints=[],\n",
    "                               utilities=[],\n",
    "                               utility_names=[]\n",
    "                               )\n",
    "\n",
    "T1_Risk_Table.plot_utilities()"
   ],
   "metadata": {
    "collapsed": false
   }
  },
  {
   "cell_type": "code",
   "execution_count": null,
   "outputs": [],
   "source": [
    "T2_Risk_Table = ISST.RiskTable(name='',\n",
    "                               units = '',\n",
    "                               utility_breakpoints=[],\n",
    "                               utilities=[],\n",
    "                               utility_names=[]\n",
    "                               )\n",
    "\n",
    "T2_Risk_Table.plot_utilities()"
   ],
   "metadata": {
    "collapsed": false
   }
  },
  {
   "cell_type": "code",
   "execution_count": null,
   "outputs": [],
   "source": [
    "T3_Risk_Table = ISST.RiskTable(name='',\n",
    "                               units = '',\n",
    "                               utility_breakpoints=[],\n",
    "                               utilities=[],\n",
    "                               utility_names=[]\n",
    "                               )\n",
    "\n",
    "T3_Risk_Table.plot_utilities()"
   ],
   "metadata": {
    "collapsed": false
   }
  },
  {
   "cell_type": "markdown",
   "source": [
    "# Risks\n",
    "\n",
    "Identify the most important risks to your cost, schedule, and each technical parameter of your design system. You should have at minimum one major risk for each risk table identified above, and no more than three times as many risks as risk tables."
   ],
   "metadata": {
    "collapsed": false
   }
  },
  {
   "cell_type": "code",
   "execution_count": null,
   "outputs": [],
   "source": [
    "R1 = ISST.Risk(name='', baseline_likelihood = 0.00)\n",
    "R2 = ISST.Risk(name='', baseline_likelihood = 0.00)\n",
    "R3 = ISST.Risk(name='', baseline_likelihood = 0.00)\n",
    "R4 = ISST.Risk(name='', baseline_likelihood = 0.00)\n",
    "R5 = ISST.Risk(name='', baseline_likelihood = 0.00)"
   ],
   "metadata": {
    "collapsed": false
   }
  },
  {
   "cell_type": "markdown",
   "source": [
    "# Design System\n",
    "\n",
    "Specify your design system"
   ],
   "metadata": {
    "collapsed": false
   }
  },
  {
   "cell_type": "code",
   "execution_count": null,
   "outputs": [],
   "source": [
    "Design_System = ISST.DesignSystem(name='',\n",
    "                                  model_context=pm.Model(),\n",
    "                                  risks=[],\n",
    "                                  schedule_risk_table = ,\n",
    "                                  cost_risk_table = ,\n",
    "                                  technical_risk_tables = [])"
   ],
   "metadata": {
    "collapsed": false
   }
  },
  {
   "cell_type": "markdown",
   "source": [
    "# Risk Specification\n",
    "\n",
    "Run the `generate_system_specification` method for your design system"
   ],
   "metadata": {
    "collapsed": false
   }
  },
  {
   "cell_type": "code",
   "execution_count": null,
   "outputs": [],
   "source": [
    "Design_System.generate_system_specification()"
   ],
   "metadata": {
    "collapsed": false
   }
  },
  {
   "cell_type": "markdown",
   "source": [
    "You will now have CSV files in a subdirectory which can be used to fill out your risk specification.\n",
    "\n",
    "Once they are filled out, read the specification back into your design system."
   ],
   "metadata": {
    "collapsed": false
   }
  },
  {
   "cell_type": "code",
   "execution_count": null,
   "outputs": [],
   "source": [
    "Design_System.read_system_specification()"
   ],
   "metadata": {
    "collapsed": false
   }
  },
  {
   "cell_type": "markdown",
   "source": [
    "# Analyze System\n",
    "\n",
    "Run the Monte Carlo simulation of your design system and save them to a file."
   ],
   "metadata": {
    "collapsed": false
   }
  },
  {
   "cell_type": "code",
   "execution_count": null,
   "outputs": [],
   "source": [
    "results = Design_System.analyze_system()\n",
    "results.to_netcdf('Analysis Results.nc')"
   ],
   "metadata": {
    "collapsed": false
   }
  },
  {
   "cell_type": "markdown",
   "source": [
    "# Results Inspection"
   ],
   "metadata": {
    "collapsed": false
   }
  },
  {
   "cell_type": "markdown",
   "source": [
    "First, let's look at the summary of results for your total impacts:"
   ],
   "metadata": {
    "collapsed": false
   }
  },
  {
   "cell_type": "code",
   "execution_count": null,
   "outputs": [],
   "source": [
    "az.plot_posterior(results,\n",
    "                  var_names=['Total'],\n",
    "                  filter_vars='like',\n",
    "                  hdi_prob=0.95)"
   ],
   "metadata": {
    "collapsed": false
   }
  },
  {
   "cell_type": "code",
   "execution_count": null,
   "outputs": [],
   "source": [
    "az.summary(results,\n",
    "           var_names=['Total'],\n",
    "           filter_vars=\"like\",\n",
    "           round_to=2,\n",
    "           kind='stats')"
   ],
   "metadata": {
    "collapsed": false
   }
  },
  {
   "cell_type": "markdown",
   "source": [
    "Next, the results for your cost analysis:"
   ],
   "metadata": {
    "collapsed": false
   }
  },
  {
   "cell_type": "code",
   "execution_count": null,
   "outputs": [],
   "source": [
    "az.plot_posterior(results,\n",
    "                  var_names=['Cost'],\n",
    "                  filter_vars='like',\n",
    "                  hdi_prob=0.95)"
   ],
   "metadata": {
    "collapsed": false
   }
  },
  {
   "cell_type": "code",
   "execution_count": null,
   "outputs": [],
   "source": [
    "az.summary(results,\n",
    "           var_names=['Cost'],\n",
    "           filter_vars=\"like\",\n",
    "           round_to=2,\n",
    "           kind='stats')"
   ],
   "metadata": {
    "collapsed": false
   }
  },
  {
   "cell_type": "markdown",
   "source": [
    "Next, the results for your schedule analysis:"
   ],
   "metadata": {
    "collapsed": false
   }
  },
  {
   "cell_type": "code",
   "execution_count": null,
   "outputs": [],
   "source": [
    "az.plot_posterior(results,\n",
    "                  var_names=['Schedule'],\n",
    "                  filter_vars='like',\n",
    "                  hdi_prob=0.95)"
   ],
   "metadata": {
    "collapsed": false
   }
  },
  {
   "cell_type": "code",
   "execution_count": null,
   "outputs": [],
   "source": [
    "az.summary(results,\n",
    "           var_names=['Schedule'],\n",
    "           filter_vars=\"like\",\n",
    "           round_to=2,\n",
    "           kind='stats')"
   ],
   "metadata": {
    "collapsed": false
   }
  },
  {
   "cell_type": "markdown",
   "source": [
    "And finally, for your technical parameters:"
   ],
   "metadata": {
    "collapsed": false
   }
  },
  {
   "cell_type": "code",
   "execution_count": null,
   "outputs": [],
   "source": [
    "for idx, risk in Design_System.risks:\n",
    "    print(f'Technical Parameter {idx}: {risk.name}')"
   ],
   "metadata": {
    "collapsed": false
   }
  },
  {
   "cell_type": "code",
   "execution_count": null,
   "outputs": [],
   "source": [
    "az.plot_posterior(results,\n",
    "                  var_names=['Technical'],\n",
    "                  filter_vars='like',\n",
    "                  hdi_prob=0.95)"
   ],
   "metadata": {
    "collapsed": false
   }
  },
  {
   "cell_type": "code",
   "execution_count": null,
   "outputs": [],
   "source": [
    "az.summary(results,\n",
    "           var_names=['Schedule'],\n",
    "           filter_vars=\"like\",\n",
    "           round_to=2,\n",
    "           kind='stats')"
   ],
   "metadata": {
    "collapsed": false
   }
  },
  {
   "cell_type": "markdown",
   "source": [
    "# Assignment Submission\n",
    "\n",
    "Once your results are in place for all of the above elements, print the notebook to PDF and submit it to the assignment."
   ],
   "metadata": {
    "collapsed": false
   }
  }
 ],
 "metadata": {
  "kernelspec": {
   "display_name": "Python 3",
   "language": "python",
   "name": "python3"
  },
  "language_info": {
   "codemirror_mode": {
    "name": "ipython",
    "version": 2
   },
   "file_extension": ".py",
   "mimetype": "text/x-python",
   "name": "python",
   "nbconvert_exporter": "python",
   "pygments_lexer": "ipython2",
   "version": "2.7.6"
  }
 },
 "nbformat": 4,
 "nbformat_minor": 0
}
