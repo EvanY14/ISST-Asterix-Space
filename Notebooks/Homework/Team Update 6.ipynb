{
 "cells": [
  {
   "metadata": {},
   "cell_type": "markdown",
   "source": [
    "# Team Update 6\n",
    "\n",
    "For this assignment, you'll be looking at the current state of your design process and evaluating the effect of potential changes to your design."
   ],
   "id": "91d814c3302f72fe"
  },
  {
   "cell_type": "code",
   "id": "initial_id",
   "metadata": {
    "collapsed": true,
    "ExecuteTime": {
     "end_time": "2024-04-10T16:51:29.219388Z",
     "start_time": "2024-04-10T16:51:27.288846Z"
    }
   },
   "source": [
    "import os\n",
    "from pathlib import Path\n",
    "\n",
    "import sys\n",
    "ISST_DIR = str(Path(os.getcwd()).parent.parent.parent)\n",
    "sys.path.append(ISST_DIR)\n",
    "\n",
    "import numpy as np\n",
    "import arviz as az\n",
    "import pymc as pm\n",
    "\n",
    "import matplotlib.pyplot as plt\n",
    "\n",
    "import ISST"
   ],
   "outputs": [],
   "execution_count": 1
  },
  {
   "metadata": {},
   "cell_type": "markdown",
   "source": [
    "# Evaluating Utility\n",
    "\n",
    "In Team Update 5, you implemented your Impact Tables, and looked at the effects of individual risks on the parameters that those Impact Tables quantified. Now we'll start to work on actually using the results of the analysis for decision making in our design process. To do this, we'll need to revisit utility functions.\n",
    "\n",
    "In Team Update 5, you plotted the discrete and logistic utility functions defined by your Impact Tables, but you also have the option of defining your own utility functions.\n",
    "\n",
    "For instance, if your impact parameters is some \"error\" from a nominal value, e.g. you're targeting a particular orbital altitude, you could define an Impact table that defines the utility function in terms the deviation from the nominal value: "
   ],
   "id": "f0a187997f834a42"
  },
  {
   "metadata": {
    "ExecuteTime": {
     "end_time": "2024-04-10T16:51:29.382725Z",
     "start_time": "2024-04-10T16:51:29.220654Z"
    }
   },
   "cell_type": "code",
   "source": [
    "Altitude_Impact_Table = ISST.ImpactTable(name='Orbital Altitude Error',\n",
    "                                         units='km',\n",
    "                                         utility_breakpoints=[0, 5., 10., 20., 25., 50.],\n",
    "                                         utilities=[0., -1., -3., -5., -7., -9.],\n",
    "                                         utility_names=['0 km Error',\n",
    "                                                        '5 km Error',\n",
    "                                                        '10 km Error',\n",
    "                                                        '20 km Error',\n",
    "                                                        '25 km Error',\n",
    "                                                        '50 km Error']\n",
    ")\n",
    "\n",
    "Altitude_Impact_Table.plot_utilities()"
   ],
   "id": "72871c5757a72539",
   "outputs": [
    {
     "data": {
      "text/plain": [
       "<Figure size 640x480 with 1 Axes>"
      ],
      "image/png": "[encoded data removed]"
     },
     "metadata": {},
     "output_type": "display_data"
    }
   ],
   "execution_count": 2
  },
  {
   "metadata": {},
   "cell_type": "markdown",
   "source": "Let's set up a basic design system incorporating this as a technical parameter, using the same cost and schedule tables as in the Example System Setup notebook, and with a risk of navigation system error. Since we're using just the one risk, we'll set its parameters manually instead of reading them in from a file:",
   "id": "faa02750ea3bae2f"
  },
  {
   "metadata": {
    "ExecuteTime": {
     "end_time": "2024-04-10T16:51:33.866096Z",
     "start_time": "2024-04-10T16:51:33.158519Z"
    }
   },
   "cell_type": "code",
   "source": [
    "Nav_Risk = ISST.Risk(name='Navigation Risk',\n",
    "                     baseline_likelihood = 0.9,\n",
    "                     \n",
    "                     #Schedule Risk Parameters\n",
    "                     schedule_risk_minimum_value=1.,\n",
    "                     schedule_risk_maximum_value=18.,\n",
    "                     schedule_risk_most_likely_value=3., \n",
    "                                                      \n",
    "                     # Cost Risk Parameterers         \n",
    "                     cost_risk_minimum_value=np.log10(100000),\n",
    "                     cost_risk_maximum_value=np.log10(2000000), \n",
    "                     cost_risk_most_likely_value=np.log10(500000),\n",
    "                                                      \n",
    "                     # Technical Risk Parameters      \n",
    "                     technical_risk_minimum_values=[-50.],\n",
    "                     technical_risk_maximum_values=[200.],\n",
    "                     technical_risk_most_likely_values=[0.]\n",
    "                     )\n",
    "\n",
    "Log_Cost_Risk_Table = ISST.ImpactTable(name='LogCost',\n",
    "                                       units='logEUR',\n",
    "                                       utility_breakpoints=[5., 6., 6.69897, 7., 7.69897, 8.],\n",
    "                                       utilities=[-1., -2., -4., -6., -8., -10.],\n",
    "                                       utility_names=['100k Euros',\n",
    "                                                      '1M Euros',\n",
    "                                                      '5M Euros',\n",
    "                                                      '10M Euros',\n",
    "                                                      '50M Euros',\n",
    "                                                      '100M Euros'])\n",
    "\n",
    "Schedule_Risk_Table = ISST.ImpactTable(name='Schedule',\n",
    "                                       units='months',\n",
    "                                       utility_breakpoints=[0., 3., 6., 12., 24., 36., 60., 120.],\n",
    "                                       utilities=[0., -0.5, -1., -2., -3., -5., -7., -10.],\n",
    "                                       utility_names=['0 months',\n",
    "                                                      '3 months',\n",
    "                                                      '6 months',\n",
    "                                                      '12 months',\n",
    "                                                      '24 months',\n",
    "                                                      '36 months',\n",
    "                                                      '60 months',\n",
    "                                                      '120 months'])\n",
    "\n",
    "Example_Design_System = ISST.DesignSystem(name='Example_Design_System',\n",
    "                                          model_context=pm.Model(),\n",
    "                                          risks=[Nav_Risk],\n",
    "                                          schedule_risk_table = Schedule_Risk_Table,\n",
    "                                          cost_risk_table = Log_Cost_Risk_Table,\n",
    "                                          technical_risk_tables = [Altitude_Impact_Table])\n",
    "\n",
    "results = Example_Design_System.analyze_system()\n",
    "az.plot_posterior(results,\n",
    "                  var_names=['Total Orbital Altitude Error Utility Impact'])"
   ],
   "id": "16f614e61b34eafa",
   "outputs": [
    {
     "ename": "ValueError",
     "evalue": "order must be one of 'C', 'F', 'A', or 'K' (got 'Total Cost Utility Impact')",
     "output_type": "error",
     "traceback": [
      "\u001B[0;31m---------------------------------------------------------------------------\u001B[0m",
      "\u001B[0;31mValueError\u001B[0m                                Traceback (most recent call last)",
      "Cell \u001B[0;32mIn[3], line 51\u001B[0m\n\u001B[1;32m     31\u001B[0m Schedule_Risk_Table \u001B[38;5;241m=\u001B[39m ISST\u001B[38;5;241m.\u001B[39mImpactTable(name\u001B[38;5;241m=\u001B[39m\u001B[38;5;124m'\u001B[39m\u001B[38;5;124mSchedule\u001B[39m\u001B[38;5;124m'\u001B[39m,\n\u001B[1;32m     32\u001B[0m                                        units\u001B[38;5;241m=\u001B[39m\u001B[38;5;124m'\u001B[39m\u001B[38;5;124mmonths\u001B[39m\u001B[38;5;124m'\u001B[39m,\n\u001B[1;32m     33\u001B[0m                                        utility_breakpoints\u001B[38;5;241m=\u001B[39m[\u001B[38;5;241m0.\u001B[39m, \u001B[38;5;241m3.\u001B[39m, \u001B[38;5;241m6.\u001B[39m, \u001B[38;5;241m12.\u001B[39m, \u001B[38;5;241m24.\u001B[39m, \u001B[38;5;241m36.\u001B[39m, \u001B[38;5;241m60.\u001B[39m, \u001B[38;5;241m120.\u001B[39m],\n\u001B[0;32m   (...)\u001B[0m\n\u001B[1;32m     41\u001B[0m                                                       \u001B[38;5;124m'\u001B[39m\u001B[38;5;124m60 months\u001B[39m\u001B[38;5;124m'\u001B[39m,\n\u001B[1;32m     42\u001B[0m                                                       \u001B[38;5;124m'\u001B[39m\u001B[38;5;124m120 months\u001B[39m\u001B[38;5;124m'\u001B[39m])\n\u001B[1;32m     44\u001B[0m Example_Design_System \u001B[38;5;241m=\u001B[39m ISST\u001B[38;5;241m.\u001B[39mDesignSystem(name\u001B[38;5;241m=\u001B[39m\u001B[38;5;124m'\u001B[39m\u001B[38;5;124mExample_Design_System\u001B[39m\u001B[38;5;124m'\u001B[39m,\n\u001B[1;32m     45\u001B[0m                                           model_context\u001B[38;5;241m=\u001B[39mpm\u001B[38;5;241m.\u001B[39mModel(),\n\u001B[1;32m     46\u001B[0m                                           risks\u001B[38;5;241m=\u001B[39m[Nav_Risk],\n\u001B[1;32m     47\u001B[0m                                           schedule_risk_table \u001B[38;5;241m=\u001B[39m Schedule_Risk_Table,\n\u001B[1;32m     48\u001B[0m                                           cost_risk_table \u001B[38;5;241m=\u001B[39m Log_Cost_Risk_Table,\n\u001B[1;32m     49\u001B[0m                                           technical_risk_tables \u001B[38;5;241m=\u001B[39m [Altitude_Impact_Table])\n\u001B[0;32m---> 51\u001B[0m results \u001B[38;5;241m=\u001B[39m Example_Design_System\u001B[38;5;241m.\u001B[39manalyze_system()\n\u001B[1;32m     52\u001B[0m az\u001B[38;5;241m.\u001B[39mplot_posterior(results,\n\u001B[1;32m     53\u001B[0m                   var_names\u001B[38;5;241m=\u001B[39m[\u001B[38;5;124m'\u001B[39m\u001B[38;5;124mTotal Orbital Altitude Error Utility Impact\u001B[39m\u001B[38;5;124m'\u001B[39m])\n",
      "File \u001B[0;32m~/git/ISST/DesignSystem.py:131\u001B[0m, in \u001B[0;36mDesignSystem.analyze_system\u001B[0;34m(self)\u001B[0m\n\u001B[1;32m    127\u001B[0m \u001B[38;5;28;01mfor\u001B[39;00m ii, tech_risk \u001B[38;5;129;01min\u001B[39;00m \u001B[38;5;28menumerate\u001B[39m(\u001B[38;5;28mself\u001B[39m\u001B[38;5;241m.\u001B[39mtechnical_risk_tables):\n\u001B[1;32m    128\u001B[0m     TTI[\u001B[38;5;124mf\u001B[39m\u001B[38;5;124m'\u001B[39m\u001B[38;5;132;01m{\u001B[39;00mtech_risk\u001B[38;5;241m.\u001B[39mname\u001B[38;5;132;01m}\u001B[39;00m\u001B[38;5;124m'\u001B[39m] \u001B[38;5;241m=\u001B[39m pm\u001B[38;5;241m.\u001B[39mDeterministic(\u001B[38;5;124mf\u001B[39m\u001B[38;5;124m'\u001B[39m\u001B[38;5;124mTotal \u001B[39m\u001B[38;5;132;01m{\u001B[39;00mtech_risk\u001B[38;5;241m.\u001B[39mname\u001B[38;5;132;01m}\u001B[39;00m\u001B[38;5;124m Impact\u001B[39m\u001B[38;5;124m'\u001B[39m,\n\u001B[1;32m    129\u001B[0m                                                 pm\u001B[38;5;241m.\u001B[39mmath\u001B[38;5;241m.\u001B[39mdot(priors, tech_impacts[ii]))\n\u001B[0;32m--> 131\u001B[0m TCU \u001B[38;5;241m=\u001B[39m pm\u001B[38;5;241m.\u001B[39mDeterministic(name\u001B[38;5;241m=\u001B[39m\u001B[38;5;124m'\u001B[39m\u001B[38;5;124mTotal Cost Utility Impact\u001B[39m\u001B[38;5;124m'\u001B[39m, var\u001B[38;5;241m=\u001B[39m\u001B[38;5;28mself\u001B[39m\u001B[38;5;241m.\u001B[39mcost_risk_table\u001B[38;5;241m.\u001B[39mutility(TCI))\n\u001B[1;32m    132\u001B[0m TSU \u001B[38;5;241m=\u001B[39m pm\u001B[38;5;241m.\u001B[39mDeterministic(name\u001B[38;5;241m=\u001B[39m\u001B[38;5;124m'\u001B[39m\u001B[38;5;124mTotal Schedule Utility Impact\u001B[39m\u001B[38;5;124m'\u001B[39m, var\u001B[38;5;241m=\u001B[39m\u001B[38;5;28mself\u001B[39m\u001B[38;5;241m.\u001B[39mschedule_risk_table\u001B[38;5;241m.\u001B[39mutility(TSI))\n\u001B[1;32m    133\u001B[0m TTU \u001B[38;5;241m=\u001B[39m {}\n",
      "File \u001B[0;32m~/anaconda3/lib/python3.11/site-packages/pymc/model/core.py:2165\u001B[0m, in \u001B[0;36mDeterministic\u001B[0;34m(name, var, model, dims)\u001B[0m\n\u001B[1;32m   2098\u001B[0m \u001B[38;5;250m\u001B[39m\u001B[38;5;124;03m\"\"\"Create a named deterministic variable.\u001B[39;00m\n\u001B[1;32m   2099\u001B[0m \n\u001B[1;32m   2100\u001B[0m \u001B[38;5;124;03mDeterministic nodes are only deterministic given all of their inputs, i.e.\u001B[39;00m\n\u001B[0;32m   (...)\u001B[0m\n\u001B[1;32m   2162\u001B[0m \u001B[38;5;124;03mrandom variables.\u001B[39;00m\n\u001B[1;32m   2163\u001B[0m \u001B[38;5;124;03m\"\"\"\u001B[39;00m\n\u001B[1;32m   2164\u001B[0m model \u001B[38;5;241m=\u001B[39m modelcontext(model)\n\u001B[0;32m-> 2165\u001B[0m var \u001B[38;5;241m=\u001B[39m var\u001B[38;5;241m.\u001B[39mcopy(model\u001B[38;5;241m.\u001B[39mname_for(name))\n\u001B[1;32m   2166\u001B[0m model\u001B[38;5;241m.\u001B[39mdeterministics\u001B[38;5;241m.\u001B[39mappend(var)\n\u001B[1;32m   2167\u001B[0m model\u001B[38;5;241m.\u001B[39madd_named_variable(var, dims)\n",
      "\u001B[0;31mValueError\u001B[0m: order must be one of 'C', 'F', 'A', or 'K' (got 'Total Cost Utility Impact')"
     ]
    }
   ],
   "execution_count": 3
  },
  {
   "metadata": {},
   "cell_type": "markdown",
   "source": "This works well enough, but in this example, the direction of the error really affects the actual utility impact of the error. The Lunar Reconnaissance Orbiter has an orbital perigee (technically periselene for the moon) of 20 km, so being 20 km *below* your nominal altitude is a much worse outcome than being 20 km *above* your nominal altitude. Our utility function probably looks more like an assymetric bell curve, which goes to -10 much faster on the negative side of the curve than it does on the positive side of the curve:",
   "id": "493e99872a24c984"
  },
  {
   "metadata": {},
   "cell_type": "code",
   "source": [
    "def bell_curve_utility(impact, max_utility=10, center=0., decay_rate = 1.):\n",
    "    return max_utility * np.exp(-(impact-center)**2/(1/decay_rate))\n",
    "\n",
    "def orbital_error_utility(altitude_error):\n",
    "    return ((altitude_error < 0) * bell_curve_utility(altitude_error, decay_rate = 0.01) +\n",
    "            (altitude_error >= 0) * bell_curve_utility(altitude_error, decay_rate = 0.0001))"
   ],
   "id": "1eace6f96e95da3e",
   "outputs": [],
   "execution_count": null
  },
  {
   "metadata": {},
   "cell_type": "markdown",
   "source": "In the above cell, `(altitude_error < 0)` returns `True (==1)` if our error is negative, and `False (==0)` otherwise, vice-versa for `(altitude_error >= 0)`. This way, only the version of bell_curve_utility that has the decay_rate appropriate to that side of the curve is used without having to use an if statement. Let's plot it over a range of potential errors to see what it looks like:",
   "id": "51160e15445058d1"
  },
  {
   "metadata": {},
   "cell_type": "code",
   "source": [
    "error_range = np.linspace(-50., 200., 1000)\n",
    "plt.plot(error_range, orbital_error_utility(error_range))\n",
    "plt.xlabel('Altitude Error (km)')\n",
    "plt.ylabel('Utility')\n",
    "plt.show()"
   ],
   "id": "752cc6c262058391",
   "outputs": [],
   "execution_count": null
  },
  {
   "metadata": {},
   "cell_type": "markdown",
   "source": "",
   "id": "7978f17f9cc8f68e"
  },
  {
   "metadata": {},
   "cell_type": "code",
   "source": "",
   "id": "51ac1a3d62182efe",
   "outputs": [],
   "execution_count": null
  }
 ],
 "metadata": {
  "kernelspec": {
   "display_name": "Python 3",
   "language": "python",
   "name": "python3"
  },
  "language_info": {
   "codemirror_mode": {
    "name": "ipython",
    "version": 2
   },
   "file_extension": ".py",
   "mimetype": "text/x-python",
   "name": "python",
   "nbconvert_exporter": "python",
   "pygments_lexer": "ipython2",
   "version": "2.7.6"
  }
 },
 "nbformat": 4,
 "nbformat_minor": 5
}
