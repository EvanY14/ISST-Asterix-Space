{
 "cells": [
  {
   "metadata": {},
   "cell_type": "markdown",
   "source": [
    "# Team Update 6\n",
    "\n",
    "For this assignment, you'll be looking at the current state of your design process and evaluating the effect of potential changes to your design."
   ],
   "id": "91d814c3302f72fe"
  },
  {
   "cell_type": "code",
   "id": "initial_id",
   "metadata": {
    "collapsed": true
   },
   "source": [
    "import os\n",
    "from pathlib import Path\n",
    "\n",
    "import sys\n",
    "ISST_DIR = str(Path(os.getcwd()).parent.parent.parent)\n",
    "sys.path.append(ISST_DIR)\n",
    "\n",
    "import numpy as np\n",
    "import arviz as az\n",
    "import pymc as pm\n",
    "\n",
    "import matplotlib.pyplot as plt\n",
    "\n",
    "import ISST"
   ],
   "outputs": [],
   "execution_count": null
  },
  {
   "metadata": {},
   "cell_type": "markdown",
   "source": [
    "# Evaluating Utility\n",
    "\n",
    "In Team Update 5, you implemented your Impact Tables, and looked at the effects of individual risks on the parameters that those Impact Tables quantified. Now we'll start to work on actually using the results of the analysis for decision making in our design process. To do this, we'll need to revisit utility functions.\n",
    "\n",
    "In Team Update 5, you plotted the discrete and logistic utility functions defined by your Impact Tables, but you also have the option of defining your own utility functions.\n",
    "\n",
    "For instance, if your impact parameters is some \"error\" from a nominal value, e.g. you're targeting a particular orbital altitude, you could define an Impact table that defines the utility function in terms the deviation from the nominal value: "
   ],
   "id": "f0a187997f834a42"
  },
  {
   "metadata": {},
   "cell_type": "code",
   "source": [
    "Altitude_Impact_Table = ISST.ImpactTable(name='Orbital Altitude Error',\n",
    "                                         units='km',\n",
    "                                         utility_breakpoints=[0, 5., 10., 20., 25., 50.],\n",
    "                                         utilities=[0., -1., -3., -5., -7., -9.],\n",
    "                                         utility_names=['0 km Error',\n",
    "                                                        '5 km Error',\n",
    "                                                        '10 km Error',\n",
    "                                                        '20 km Error',\n",
    "                                                        '25 km Error',\n",
    "                                                        '50 km Error']\n",
    ")\n",
    "\n",
    "Altitude_Impact_Table.plot_utilities()"
   ],
   "id": "72871c5757a72539",
   "outputs": [],
   "execution_count": null
  },
  {
   "metadata": {},
   "cell_type": "markdown",
   "source": "Let's set up a basic design system incorporating this as a technical parameter, using the same cost and schedule tables as in the Example System Setup notebook, and with a risk of navigation system error. Since we're using just the one risk, we'll set its parameters manually instead of reading them in from a file:",
   "id": "faa02750ea3bae2f"
  },
  {
   "metadata": {},
   "cell_type": "code",
   "source": [
    "Nav_Risk = ISST.Risk(name='Navigation Risk',\n",
    "                     baseline_likelihood = 0.9,\n",
    "                     \n",
    "                     #Schedule Risk Parameters\n",
    "                     schedule_risk_minimum_value=1.,\n",
    "                     schedule_risk_maximum_value=18.,\n",
    "                     schedule_risk_most_likely_value=3., \n",
    "                                                      \n",
    "                     # Cost Risk Parameterers         \n",
    "                     cost_risk_minimum_value=np.log10(100000),\n",
    "                     cost_risk_maximum_value=np.log10(2000000), \n",
    "                     cost_risk_most_likely_value=np.log10(500000),\n",
    "                                                      \n",
    "                     # Technical Risk Parameters      \n",
    "                     technical_risk_minimum_values=[-50.],\n",
    "                     technical_risk_maximum_values=[200.],\n",
    "                     technical_risk_most_likely_values=[0.]\n",
    "                     )\n",
    "\n",
    "Log_Cost_Risk_Table = ISST.ImpactTable(name='LogCost',\n",
    "                                       units='logEUR',\n",
    "                                       utility_breakpoints=[5., 6., 6.69897, 7., 7.69897, 8.],\n",
    "                                       utilities=[-1., -2., -4., -6., -8., -10.],\n",
    "                                       utility_names=['100k Euros',\n",
    "                                                      '1M Euros',\n",
    "                                                      '5M Euros',\n",
    "                                                      '10M Euros',\n",
    "                                                      '50M Euros',\n",
    "                                                      '100M Euros'])\n",
    "\n",
    "Schedule_Risk_Table = ISST.ImpactTable(name='Schedule',\n",
    "                                       units='months',\n",
    "                                       utility_breakpoints=[0., 3., 6., 12., 24., 36., 60., 120.],\n",
    "                                       utilities=[0., -0.5, -1., -2., -3., -5., -7., -10.],\n",
    "                                       utility_names=['0 months',\n",
    "                                                      '3 months',\n",
    "                                                      '6 months',\n",
    "                                                      '12 months',\n",
    "                                                      '24 months',\n",
    "                                                      '36 months',\n",
    "                                                      '60 months',\n",
    "                                                      '120 months'])\n",
    "\n",
    "Example_Design_System = ISST.DesignSystem(name='Example_Design_System',\n",
    "                                          model_context=pm.Model(),\n",
    "                                          risks=[Nav_Risk],\n",
    "                                          schedule_risk_table = Schedule_Risk_Table,\n",
    "                                          cost_risk_table = Log_Cost_Risk_Table,\n",
    "                                          technical_risk_tables = [Altitude_Impact_Table])\n",
    "\n",
    "results = Example_Design_System.analyze_system()"
   ],
   "id": "16f614e61b34eafa",
   "outputs": [],
   "execution_count": null
  },
  {
   "metadata": {},
   "cell_type": "markdown",
   "source": "Now that we have our results, let's look at the impact on altitude specifically:",
   "id": "c0a029197570be36"
  },
  {
   "metadata": {},
   "cell_type": "code",
   "source": [
    "az.summary(results,\n",
    "           var_names=['Total Orbital Altitude'],\n",
    "           filter_vars='like',\n",
    "           round_to=2,\n",
    "           kind='stats')"
   ],
   "id": "21b621d0a8dbcc60",
   "outputs": [],
   "execution_count": null
  },
  {
   "metadata": {},
   "cell_type": "code",
   "source": [
    "az.plot_posterior(results,\n",
    "                  var_names=['Total Orbital Altitude'],\n",
    "                  filter_vars='like',\n",
    "                  hdi_prob=0.95)"
   ],
   "id": "25733d7dd716dbb9",
   "outputs": [],
   "execution_count": null
  },
  {
   "metadata": {},
   "cell_type": "markdown",
   "source": "This works well enough, but note that in this example, the direction of the error really affects the actual utility impact of the error, and our utility breakpoints are all positive, based on the absolute value of the error. If we check the utility of hte absolute values of our mean and 95% confidence limits, we get: ",
   "id": "493e99872a24c984"
  },
  {
   "metadata": {},
   "cell_type": "code",
   "source": [
    "mean = np.asarray(results.posterior.mean()['Total Orbital Altitude Error Impact'])\n",
    "confidence_bounds = np.asarray(az.hdi(results, hdi_prob=0.95)['Total Orbital Altitude Error Impact'])\n",
    "\n",
    "print(f'Utility for Average Impact ({mean: .2f} km): {Altitude_Impact_Table.logistic_utility(mean): .2f}')\n",
    "\n",
    "print(f'Utility for Lower Confidence Bound ({confidence_bounds[0]: .2f} km): {Altitude_Impact_Table.logistic_utility(np.abs(confidence_bounds)[0]): .2f}')\n",
    "\n",
    "print(f'Utility for Upper Confidence Bound ({confidence_bounds[1]: .2f} km): {Altitude_Impact_Table.logistic_utility(np.abs(confidence_bounds)[1]): .2f}')"
   ],
   "id": "dff85ff7b8324f8b",
   "outputs": [],
   "execution_count": null
  },
  {
   "metadata": {},
   "cell_type": "markdown",
   "source": [
    "On average, we expect to be 22.77 km off from our nominal orbit altitude and lose -6.25 points of utility due to navigation errors, and more at the extremes of our confidence intervals, but note that the impact of the errors is symmetric whether they're positive or negative. Is that actually what we want?\n",
    "\n",
    "The Lunar Reconnaissance Orbiter has an orbital perigee (technically periselene for the moon) of 20 km, so being 20 km *below* your nominal altitude is a much worse outcome than being 20 km *above* your nominal altitude. Our utility function probably looks more like an assymetric bell curve, which goes to -10 much faster on the negative side of the curve than it does on the positive side of the curve:"
   ],
   "id": "4b55e313819b7d27"
  },
  {
   "metadata": {},
   "cell_type": "code",
   "source": [
    "def bell_curve_utility(impact, max_utility=10, center=0., decay_rate = 1.):\n",
    "    return -max_utility * (1 - np.exp(-(impact-center)**2/(1/decay_rate)))\n",
    "\n",
    "def orbital_error_utility(altitude_error):\n",
    "    return ((altitude_error < 0) * bell_curve_utility(altitude_error, decay_rate = 0.01) +\n",
    "            (altitude_error >= 0) * bell_curve_utility(altitude_error, decay_rate = 0.0001))"
   ],
   "id": "1eace6f96e95da3e",
   "outputs": [],
   "execution_count": null
  },
  {
   "metadata": {},
   "cell_type": "markdown",
   "source": "In the above cell, `(altitude_error < 0)` returns `True (==1)` if our error is negative, and `False (==0)` otherwise, vice-versa for `(altitude_error >= 0)`. This way, only the version of bell_curve_utility that has the decay_rate appropriate to that side of the curve is used without having to use an if statement. Let's plot it over a range of potential errors to see what it looks like:",
   "id": "51160e15445058d1"
  },
  {
   "metadata": {},
   "cell_type": "code",
   "source": [
    "error_range = np.linspace(-50., 200., 1000)\n",
    "plt.plot(error_range, orbital_error_utility(error_range))\n",
    "plt.xlabel('Altitude Error (km)')\n",
    "plt.ylabel('Utility')\n",
    "plt.show()"
   ],
   "id": "752cc6c262058391",
   "outputs": [],
   "execution_count": null
  },
  {
   "metadata": {},
   "cell_type": "markdown",
   "source": "Let's instead calculate the utility for our mean and 95% confidence limits using this utility function, this time dropping the absolute value conversion:",
   "id": "7978f17f9cc8f68e"
  },
  {
   "metadata": {},
   "cell_type": "code",
   "source": [
    "print(f'Utility for Average Impact ({mean: .2f} km): {orbital_error_utility(mean): .2f}')\n",
    "\n",
    "print(f'Utility for Lower Confidence Bound ({confidence_bounds[0]: .2f} km): {orbital_error_utility(confidence_bounds[0]): .2f}')\n",
    "\n",
    "print(f'Utility for Upper Confidence Bound ({confidence_bounds[1]: .2f} km): {orbital_error_utility(confidence_bounds[1]): .2f}')"
   ],
   "id": "51ac1a3d62182efe",
   "outputs": [],
   "execution_count": null
  },
  {
   "metadata": {},
   "cell_type": "markdown",
   "source": "Now, our utilities match our understanding of the system better - being 22.77 km above our nominal altitude isn't too bad, but being more than 90 km above is a real problem, however being more than 40 km *below* our nominal altitude is a total loss.",
   "id": "b18c7dce64bb750f"
  },
  {
   "metadata": {},
   "cell_type": "markdown",
   "source": [
    "# Reviewing Previous Results\n",
    "\n",
    "First, let's look at your results from Team Update 5 in terms of utility functions. By default, Team Update 5 saved your results as `Analysis Results.nc`. If you have changed the name of the results file, you'll need to change the name of the file in the next cell:"
   ],
   "id": "68fac594a2da7ab9"
  },
  {
   "metadata": {},
   "cell_type": "code",
   "source": "TU5_Results = az.from_netcdf('Analysis Results.nc')",
   "id": "38a1ec6fd6a27881",
   "outputs": [],
   "execution_count": null
  },
  {
   "metadata": {},
   "cell_type": "markdown",
   "source": "First, let's look at the cost and schedule utilities. You can either reconstruct the Impact Tables you used in Team Update 5 by copy and pasting below: ",
   "id": "3c21729df7b2cae1"
  },
  {
   "metadata": {},
   "cell_type": "code",
   "source": [
    "Cost_Risk_Table = ISST.ImpactTable(name='Cost',\n",
    "                                   units = '',\n",
    "                                   utility_breakpoints=[],\n",
    "                                   utilities=[],\n",
    "                                   utility_names=[]\n",
    "                                   )\n",
    "\n",
    "Schedule_Risk_Table = ISST.ImpactTable(name='Schedule',\n",
    "                                       units = '',\n",
    "                                       utility_breakpoints=[],\n",
    "                                       utilities=[],\n",
    "                                       utility_names=[]\n",
    "                                       )"
   ],
   "id": "71582c366ba585bd",
   "outputs": [],
   "execution_count": null
  },
  {
   "metadata": {},
   "cell_type": "markdown",
   "source": "OR by definining custom utility functions here:",
   "id": "f3fc16a09d0e905a"
  },
  {
   "metadata": {},
   "cell_type": "code",
   "source": [
    "def custom_cost_utility_function(impact):\n",
    "    \n",
    "    return "
   ],
   "id": "d3a9bd96a7ed2604",
   "outputs": [],
   "execution_count": null
  },
  {
   "metadata": {},
   "cell_type": "code",
   "source": [
    "def custom_schedule_utility_function(impact):\n",
    "    \n",
    "    return"
   ],
   "id": "9ff35c743e7c63e9",
   "outputs": [],
   "execution_count": null
  },
  {
   "metadata": {},
   "cell_type": "markdown",
   "source": "Run ONE the following cells to create an alias to your chosen utility method for cost:",
   "id": "a085d07afc2d6c65"
  },
  {
   "metadata": {},
   "cell_type": "code",
   "source": [
    "# Run this cell to use the Impact Table's logistic utility function\n",
    "cost_utility_function = Cost_Risk_Table.logistic_utility"
   ],
   "id": "508f12d260ef2fd",
   "outputs": [],
   "execution_count": null
  },
  {
   "metadata": {},
   "cell_type": "code",
   "source": [
    "# Run this cell to use the Impact Table's discrete utility function\n",
    "cost_utility_function = Cost_Risk_Table.discrete_utility"
   ],
   "id": "fbd422efd05cffbb",
   "outputs": [],
   "execution_count": null
  },
  {
   "metadata": {},
   "cell_type": "code",
   "source": [
    "# Run this cell to use your custom utility function\n",
    "cost_utility_function = custom_cost_utility_function"
   ],
   "id": "7ecf8f4700785813",
   "outputs": [],
   "execution_count": null
  },
  {
   "metadata": {},
   "cell_type": "markdown",
   "source": "And run ONE of the following cells to create an alias for your chosen utility method for schedule:",
   "id": "811b41d085a2327c"
  },
  {
   "metadata": {},
   "cell_type": "code",
   "source": [
    "# Run this cell to use the Impact Table's logistic utility function\n",
    "schedule_utility_function = Schedule_Risk_Table.logistic_utility"
   ],
   "id": "e159e83af00a0c8c",
   "outputs": [],
   "execution_count": null
  },
  {
   "metadata": {},
   "cell_type": "code",
   "source": [
    "# Run this cell to use the Impact Table's discrete utility function\n",
    "schedule_utility_function = Schedule_Risk_Table.discrete_utility"
   ],
   "id": "f429e7b5f574c215",
   "outputs": [],
   "execution_count": null
  },
  {
   "metadata": {},
   "cell_type": "code",
   "source": [
    "# Run this cell to use your custom utility function\n",
    "schedule_utility_function = custom_schedule_utility_function"
   ],
   "id": "6cd5220faf85ec7c",
   "outputs": [],
   "execution_count": null
  },
  {
   "metadata": {},
   "cell_type": "markdown",
   "source": "Now, let's look at the utility for your mean and 95% confidence limits on cost and schedule:",
   "id": "abf9962d4f678ab0"
  },
  {
   "metadata": {},
   "cell_type": "code",
   "source": [
    "cost_mean = np.asarray(results.posterior.mean()['Total Cost Impact'])\n",
    "schedule_mean = np.asarray(results.posterior.mean()['Total Schedule Impact'])\n",
    "\n",
    "cost_confidence_bounds = np.asarray(az.hdi(results, hdi_prob=0.95)['Total Cost Impact'])\n",
    "schedule_confidence_bounds = np.asarray(az.hdi(results, hdi_prob=0.95)['Total Schedule Impact'])"
   ],
   "id": "ac7b107d378e29f3",
   "outputs": [],
   "execution_count": null
  },
  {
   "metadata": {},
   "cell_type": "code",
   "source": [
    "print(f'Utility for Expected Cost Impact: {cost_utility_function(cost_mean): .2f}')\n",
    "\n",
    "print(f'Utility for Lower Confidence Bound: {cost_utility_function(cost_confidence_bounds[0]): .2f}')\n",
    "\n",
    "print(f'Utility for Upper Confidence Bound: {cost_utility_function(cost_confidence_bounds[1]): .2f}')"
   ],
   "id": "4b53513678416fc8",
   "outputs": [],
   "execution_count": null
  },
  {
   "metadata": {},
   "cell_type": "code",
   "source": [
    "print(f'Utility for Expected Schedule Impact: {schedule_utility_function(schedule_mean): .2f}')\n",
    "\n",
    "print(f'Utility for Lower Confidence Bound: {schedule_utility_function(schedule_confidence_bounds[0]): .2f}')\n",
    "\n",
    "print(f'Utility for Upper Confidence Bound: {schedule_utility_function(schedule_confidence_bounds[1]): .2f}')"
   ],
   "id": "4446f2b7d2f38a5a",
   "outputs": [],
   "execution_count": null
  },
  {
   "metadata": {},
   "cell_type": "markdown",
   "source": [
    "Repeat this process for each of your technical impacts, copying and pasting the following cells if you have more than three technical parameters (Make sure the name of the parameter matches Team Update 5):\n",
    "\n",
    "Technical Parameter 1:"
   ],
   "id": "99a4391742c55506"
  },
  {
   "metadata": {},
   "cell_type": "code",
   "source": [
    "T1_Impact_Table = ISST.ImpactTable(name='',\n",
    "                                   units = '',\n",
    "                                   utility_breakpoints=[],\n",
    "                                   utilities=[],\n",
    "                                   utility_names=[]\n",
    "                                   )"
   ],
   "id": "6a21c167cfbc62b3",
   "outputs": [],
   "execution_count": null
  },
  {
   "metadata": {},
   "cell_type": "code",
   "source": [
    "# Run this cell to use the Impact Table's logistic utility function\n",
    "T1_utility_function = T1_Risk_Table.logistic_utility"
   ],
   "id": "af3a99379266285b",
   "outputs": [],
   "execution_count": null
  },
  {
   "metadata": {},
   "cell_type": "code",
   "source": [
    "# Run this cell to use the Impact Table's discrete utility function\n",
    "T1_utility_function = T1_Risk_Table.discrete_utility"
   ],
   "id": "8e8994153a310302",
   "outputs": [],
   "execution_count": null
  },
  {
   "metadata": {},
   "cell_type": "code",
   "source": [
    "# Run this cell to use your custom utility function\n",
    "def custom_T1_utility_function(impact):\n",
    "    \n",
    "    return\n",
    "\n",
    "T1_utility_function = custom_T1_utility_function"
   ],
   "id": "11899763aa35f59f",
   "outputs": [],
   "execution_count": null
  },
  {
   "metadata": {},
   "cell_type": "code",
   "source": [
    "T1_mean = np.asarray(results.posterior.mean()[f'Total {T1_Impact_Table.name} Impact'])\n",
    "T1_confidence_bounds = np.asarray(az.hdi(results, hdi_prob=0.95)[f'Total {T1_Impact_Table.name} Impact'])\n",
    "\n",
    "print(f'Utility for Expected {T1_Impact_Table.name} Impact: {T1_utility_function(T1_mean): .2f}')\n",
    "\n",
    "print(f'Utility for Lower Confidence Bound: {T1_utility_function(T1_confidence_bounds[0]): .2f}')\n",
    "\n",
    "print(f'Utility for Upper Confidence Bound: {T1_utility_function(T1_confidence_bounds[1]): .2f}')"
   ],
   "id": "1aad9b083f7b4cfa",
   "outputs": [],
   "execution_count": null
  },
  {
   "metadata": {},
   "cell_type": "markdown",
   "source": "Technical Parameter 2:",
   "id": "1e60540c8600f476"
  },
  {
   "metadata": {},
   "cell_type": "code",
   "source": [
    "T2_Impact_Table = ISST.ImpactTable(name='',\n",
    "                                   units = '',\n",
    "                                   utility_breakpoints=[],\n",
    "                                   utilities=[],\n",
    "                                   utility_names=[]\n",
    "                                   )"
   ],
   "id": "1d9d4347f47df5d9",
   "outputs": [],
   "execution_count": null
  },
  {
   "metadata": {},
   "cell_type": "code",
   "source": [
    "# Run this cell to use the Impact Table's logistic utility function\n",
    "T2_utility_function = T2_Risk_Table.logistic_utility"
   ],
   "id": "8485ed3ab637917e",
   "outputs": [],
   "execution_count": null
  },
  {
   "metadata": {},
   "cell_type": "code",
   "source": [
    "# Run this cell to use the Impact Table's discrete utility function\n",
    "T2_utility_function = T2_Risk_Table.discrete_utility"
   ],
   "id": "d4a77da2158f4714",
   "outputs": [],
   "execution_count": null
  },
  {
   "metadata": {},
   "cell_type": "code",
   "source": [
    "# Run this cell to use your custom utility function\n",
    "def custom_T2_utility_function(impact):\n",
    "    \n",
    "    return\n",
    "\n",
    "T2_utility_function = custom_T2_utility_function"
   ],
   "id": "637dd6f6c30921c9",
   "outputs": [],
   "execution_count": null
  },
  {
   "metadata": {},
   "cell_type": "code",
   "source": [
    "T2_mean = np.asarray(results.posterior.mean()[f'Total {T2_Impact_Table.name} Impact'])\n",
    "T2_confidence_bounds = np.asarray(az.hdi(results, hdi_prob=0.95)[f'Total {T2_Impact_Table.name} Impact'])\n",
    "\n",
    "print(f'Utility for Expected {T2_Impact_Table.name} Impact: {T2_utility_function(T2_mean): .2f}')\n",
    "\n",
    "print(f'Utility for Lower Confidence Bound: {T2_utility_function(T2_confidence_bounds[0]): .2f}')\n",
    "\n",
    "print(f'Utility for Upper Confidence Bound: {T2_utility_function(T2_confidence_bounds[1]): .2f}')"
   ],
   "id": "8aabcd963e6e3751",
   "outputs": [],
   "execution_count": null
  },
  {
   "metadata": {},
   "cell_type": "markdown",
   "source": "Technical Parameter 3:",
   "id": "dd00fc98954e0992"
  },
  {
   "metadata": {},
   "cell_type": "code",
   "source": [
    "T3_Impact_Table = ISST.ImpactTable(name='',\n",
    "                                   units = '',\n",
    "                                   utility_breakpoints=[],\n",
    "                                   utilities=[],\n",
    "                                   utility_names=[]\n",
    "                                   )"
   ],
   "id": "2586942a119f9e2f",
   "outputs": [],
   "execution_count": null
  },
  {
   "metadata": {},
   "cell_type": "code",
   "source": [
    "# Run this cell to use the Impact Table's logistic utility function\n",
    "T3_utility_function = T3_Risk_Table.logistic_utility"
   ],
   "id": "978b9c71e0a28be8",
   "outputs": [],
   "execution_count": null
  },
  {
   "metadata": {},
   "cell_type": "code",
   "source": [
    "# Run this cell to use the Impact Table's discrete utility function\n",
    "T3_utility_function = T3_Risk_Table.discrete_utility"
   ],
   "id": "dc8c03788006db24",
   "outputs": [],
   "execution_count": null
  },
  {
   "metadata": {},
   "cell_type": "code",
   "source": [
    "# Run this cell to use your custom utility function\n",
    "def custom_T2_utility_function(impact):\n",
    "    \n",
    "    return\n",
    "\n",
    "T3_utility_function = custom_T3_utility_function"
   ],
   "id": "13658e19ee078663",
   "outputs": [],
   "execution_count": null
  },
  {
   "metadata": {},
   "cell_type": "code",
   "source": [
    "T3_mean = np.asarray(results.posterior.mean()[f'Total {T3_Impact_Table.name} Impact'])\n",
    "T3_confidence_bounds = np.asarray(az.hdi(results, hdi_prob=0.95)[f'Total {T3_Impact_Table.name} Impact'])\n",
    "\n",
    "print(f'Utility for Expected {T3_Impact_Table.name} Impact: {T3_utility_function(T3_mean): .2f}')\n",
    "\n",
    "print(f'Utility for Lower Confidence Bound: {T3_utility_function(T3_confidence_bounds[0]): .2f}')\n",
    "\n",
    "print(f'Utility for Upper Confidence Bound: {T3_utility_function(T3_confidence_bounds[1]): .2f}')"
   ],
   "id": "1931c02e9c056d53",
   "outputs": [],
   "execution_count": null
  },
  {
   "metadata": {},
   "cell_type": "markdown",
   "source": [
    "# Design Revisions\n",
    "\n",
    "Now that we have the baseline from Technical Update 5, it's time to evaluate the effect of any design change you want to make. To do this, we'll need to create a new Design System. If you're re-using the same Impact Tables, and the baseline likelihoods of your risks haven't changed, you can just copy and paste from Team Update 5. If you have made a change, be sure to document it in the accompanying individual assignment."
   ],
   "id": "bbc331498f9c11da"
  },
  {
   "metadata": {},
   "cell_type": "code",
   "source": [
    "TU6_Cost_Impact_Table = ISST.ImpactTable(name='Cost',\n",
    "                                         units='',\n",
    "                                         utility_breakpoints=[],\n",
    "                                         utilities=[],\n",
    "                                         utility_names=[]\n",
    "                                         )\n",
    "\n",
    "TU6_Schedule_Impact_Table = ISST.ImpactTable(name='Schedule',\n",
    "                                             units = '',\n",
    "                                             utility_breakpoints=[],\n",
    "                                             utilities=[],\n",
    "                                             utility_names=[]\n",
    "                                             )\n",
    "\n",
    "TU6_T1_Impact_Table = ISST.ImpactTable(name='',\n",
    "                                       units = '',\n",
    "                                       utility_breakpoints=[],\n",
    "                                       utilities=[],\n",
    "                                       utility_names=[]\n",
    "                                       )\n",
    "\n",
    "TU6_T2_Impact_Table = ISST.ImpactTable(name='',\n",
    "                                       units = '',\n",
    "                                       utility_breakpoints=[],\n",
    "                                       utilities=[],\n",
    "                                       utility_names=[]\n",
    "                                       )\n",
    "\n",
    "TU6_T3_Impact_Table = ISST.ImpactTable(name='',\n",
    "                                       units = '',\n",
    "                                       utility_breakpoints=[],\n",
    "                                       utilities=[],\n",
    "                                       utility_names=[]\n",
    "                                       )\n",
    "\n",
    "TU6_R1 = ISST.Risk(name='', baseline_likelihood = 0.00)\n",
    "TU6_R2 = ISST.Risk(name='', baseline_likelihood = 0.00)\n",
    "TU6_R3 = ISST.Risk(name='', baseline_likelihood = 0.00)\n",
    "TU6_R4 = ISST.Risk(name='', baseline_likelihood = 0.00)\n",
    "TU6_R5 = ISST.Risk(name='', baseline_likelihood = 0.00)"
   ],
   "id": "befada52d1460952",
   "outputs": [],
   "execution_count": null
  },
  {
   "metadata": {},
   "cell_type": "code",
   "source": [
    "TU6_Design_System = ISST.DesignSystem(name='Team Update 6',\n",
    "                                      model_context=pm.Model(),\n",
    "                                      risks=[TU6_R1,\n",
    "                                             TU6_R2,\n",
    "                                             TU6_R3,\n",
    "                                             TU6_R4,\n",
    "                                             TU6_R5],\n",
    "                                      schedule_risk_table = TU6_Schedule_Impact_Table,\n",
    "                                      cost_risk_table = TU6_Cost_Impact_Table,\n",
    "                                      technical_risk_tables = [TU6_T1_Impact_Table,\n",
    "                                                               TU6_T2_Impact_Table,\n",
    "                                                               TU6_T3_Impact_Table])"
   ],
   "id": "c64ade7249d44d35",
   "outputs": [],
   "execution_count": null
  },
  {
   "metadata": {},
   "cell_type": "markdown",
   "source": "",
   "id": "a002c926a1bd91c1"
  },
  {
   "metadata": {},
   "cell_type": "markdown",
   "source": "The minimum, maximum, and most likely impacts for each of your risks are the major input variables to keep track of here, so we'll generate a new set of system specification spreadsheets:",
   "id": "46c0c42bfa45a8b1"
  },
  {
   "metadata": {},
   "cell_type": "code",
   "source": "TU6_Design_System.generate_system_specification()",
   "id": "90643bdf9c5072c7",
   "outputs": [],
   "execution_count": null
  },
  {
   "metadata": {},
   "cell_type": "markdown",
   "source": "Once you've filled out the spreadsheets (and documented the changes in your individual assignment), we'll read them back in and analyze the results:",
   "id": "b536f55bb4d58db2"
  },
  {
   "metadata": {},
   "cell_type": "code",
   "source": "TU6_Design_System.read_system_specification()",
   "id": "4254fbc52735a7be",
   "outputs": [],
   "execution_count": null
  },
  {
   "metadata": {},
   "cell_type": "code",
   "source": [
    "TU6_results = TU6_Design_System.analyze_system()\n",
    "TU6_results.to_netcdf('TU6_results.nc')"
   ],
   "id": "43937a94f23da3ee",
   "outputs": [],
   "execution_count": null
  },
  {
   "metadata": {},
   "cell_type": "markdown",
   "source": "Run this instead if you're coming back later and already have the results:\n",
   "id": "e8a1795a60ba358c"
  },
  {
   "metadata": {},
   "cell_type": "code",
   "source": "TU6_results = az.from_netcdf('TU6_results.nc')",
   "id": "6b749e3459788dae",
   "outputs": [],
   "execution_count": null
  },
  {
   "metadata": {},
   "cell_type": "markdown",
   "source": [
    "# Comparison with Team Update 5\n",
    "\n",
    "Now, all that remains is to compare your new results with the baseline from Team Update 5, first, let's plot all of the Total Impact Results for Team Update 5:"
   ],
   "id": "13481ebd44ecb21d"
  },
  {
   "metadata": {},
   "cell_type": "code",
   "source": [
    "az.plot_posterior(results,\n",
    "                  var_names=['Total'],\n",
    "                  filter_vars='like',\n",
    "                  hdi_prob=0.95)"
   ],
   "id": "3b3171d9cbfeed9c",
   "outputs": [],
   "execution_count": null
  },
  {
   "metadata": {},
   "cell_type": "code",
   "source": [
    "az.summary(results,\n",
    "           var_names=['Total'],\n",
    "           filter_vars=\"like\",\n",
    "           round_to=2,\n",
    "           kind='stats')"
   ],
   "id": "2bf0bdf35d01572b",
   "outputs": [],
   "execution_count": null
  },
  {
   "metadata": {},
   "cell_type": "markdown",
   "source": "And now the same for Team Update 6:",
   "id": "bce5b211b035a3b9"
  },
  {
   "metadata": {},
   "cell_type": "code",
   "source": [
    "az.plot_posterior(TU6_results,\n",
    "                  var_names=['Total'],\n",
    "                  filter_vars='like',\n",
    "                  hdi_prob=0.95)"
   ],
   "id": "6e22b8cfc895a464",
   "outputs": [],
   "execution_count": null
  },
  {
   "metadata": {},
   "cell_type": "code",
   "source": [
    "az.summary(TU6_results,\n",
    "           var_names=['Total'],\n",
    "           filter_vars=\"like\",\n",
    "           round_to=2,\n",
    "           kind='stats')"
   ],
   "id": "e3d73a92434cbade",
   "outputs": [],
   "execution_count": null
  },
  {
   "metadata": {},
   "cell_type": "markdown",
   "source": "And now, let's compare the results in terms of utility:",
   "id": "f3e9cae6fb653436"
  },
  {
   "metadata": {},
   "cell_type": "code",
   "source": [
    "TU6_cost_mean = np.asarray(TU6_results.posterior.mean()['Total Cost Impact'])\n",
    "TU6_schedule_mean = np.asarray(TU6_results.posterior.mean()['Total Schedule Impact'])\n",
    "\n",
    "TU6_cost_confidence_bounds = np.asarray(az.hdi(TU6_results, hdi_prob=0.95)['Total Cost Impact'])\n",
    "TU6_schedule_confidence_bounds = np.asarray(az.hdi(TU6_results, hdi_prob=0.95)['Total Schedule Impact'])"
   ],
   "id": "6a4870af167b8dc1",
   "outputs": [],
   "execution_count": null
  },
  {
   "metadata": {},
   "cell_type": "markdown",
   "source": "If you've changed your utility functions in some way as part of the design revision for Team Update 6, change out the default alias to the old functions below:",
   "id": "18fa2d6ef7614f28"
  },
  {
   "metadata": {},
   "cell_type": "code",
   "source": "TU6_cost_utility_function = cost_utility_function",
   "id": "f42d4a7f9458fab2",
   "outputs": [],
   "execution_count": null
  },
  {
   "metadata": {},
   "cell_type": "code",
   "source": "TU6_schedule_utility_function = schedule_utility_function",
   "id": "216c45478df890b9",
   "outputs": [],
   "execution_count": null
  },
  {
   "metadata": {},
   "cell_type": "markdown",
   "source": "Now, calculate the change in utility from your design revision:",
   "id": "d6d041662fe5c504"
  },
  {
   "metadata": {},
   "cell_type": "code",
   "source": [
    "Mean_Cost_Utility_Change = TU6_cost_utility_function(TU6_cost_mean) - TU6_cost_utility_function(cost_mean)\n",
    "\n",
    "LB_Cost_Utility_Change = TU6_cost_utility_function(TU6_cost_confidence_bounds[0]) - TU6_cost_utility_function(cost_confidence_bounds[0])\n",
    "\n",
    "UB_Cost_Utility_Change = TU6_cost_utility_function(TU6_cost_confidence_bounds[1]) - TU6_cost_utility_function(cost_confidence_bounds[1])\n",
    "\n",
    "print(f'Mean Cost Utility Change: {Mean_Cost_Utility_Change:.2f}')\n",
    "\n",
    "print(f'Lower Bound Cost Utility Change: {LB_Cost_Utility_Change:.2f}')\n",
    "\n",
    "print(f'Upper Bound Cost Utility Change: {UB_Cost_Utility_Change:.2f}')"
   ],
   "id": "769765fe1a5b8c02",
   "outputs": [],
   "execution_count": null
  },
  {
   "metadata": {},
   "cell_type": "code",
   "source": [
    "Mean_Schedule_Utility_Change = TU6_schedule_utility_function(TU6_schedule_mean) - TU6_schedule_utility_function(schedule_mean)\n",
    "\n",
    "LB_Schedule_Utility_Change = TU6_schedule_utility_function(TU6_schedule_confidence_bounds[0]) - TU6_schedule_utility_function(schedule_confidence_bounds[0])\n",
    "\n",
    "UB_Schedule_Utility_Change = TU6_schedule_utility_function(TU6_schedule_confidence_bounds[1]) - TU6_schedule_utility_function(schedule_confidence_bounds[1])\n",
    "\n",
    "print(f'Mean Cost Utility Change: {Mean_Schedule_Utility_Change:.2f}')\n",
    "\n",
    "print(f'Lower Bound Cost Utility Change: {LB_Schedule_Utility_Change:.2f}')\n",
    "\n",
    "print(f'Upper Bound Cost Utility Change: {UB_Schedule_Utility_Change:.2f}')"
   ],
   "id": "f75a98207ccadc64",
   "outputs": [],
   "execution_count": null
  },
  {
   "metadata": {},
   "cell_type": "markdown",
   "source": [
    "Now, repeat the process for your technical impacts.\n",
    "\n",
    "Technical Paramter 1:"
   ],
   "id": "6f416f15a74998e"
  },
  {
   "metadata": {},
   "cell_type": "code",
   "source": [
    "TU6_T1_mean = np.asarray(TU6_results.posterior.mean()[f'Total {TU6_Design_System.techincal_risk_tables[0].name} Impact'])\n",
    "\n",
    "TU6_T1_confidence_bounds = np.asarray(az.hdi(TU6_results, hdi_prob=0.95)[f'Total {TU6_Design_System.techincal_risk_tables[0].name} Impact'])"
   ],
   "id": "aea953c3c27eb214",
   "outputs": [],
   "execution_count": null
  },
  {
   "metadata": {},
   "cell_type": "code",
   "source": "TU6_T1_utility_function = T1_utility_function",
   "id": "78180548b00a1229",
   "outputs": [],
   "execution_count": null
  },
  {
   "metadata": {},
   "cell_type": "code",
   "source": [
    "Mean_T1_Utility_Change = TU6_T1_utility_function(TU6_T1_mean) - TU6_T1_utility_function(T1_mean)\n",
    "\n",
    "LB_T1_Utility_Change = TU6_T1_utility_function(TU6_T1_confidence_bounds[0]) - TU6_T1_utility_function(T1_confidence_bounds[0])\n",
    "\n",
    "UB_T1_Utility_Change = TU6_T1_utility_function(TU6_T1_confidence_bounds[1]) - TU6_T1_utility_function(T1_confidence_bounds[1])\n",
    "\n",
    "print(f'Mean Cost Utility Change: {Mean_T1_Utility_Change:.2f}')\n",
    "\n",
    "print(f'Lower Bound Cost Utility Change: {LB_T1_Utility_Change:.2f}')\n",
    "\n",
    "print(f'Upper Bound Cost Utility Change: {UB_T1_Utility_Change:.2f}')"
   ],
   "id": "1f9905e1aa982269",
   "outputs": [],
   "execution_count": null
  },
  {
   "metadata": {},
   "cell_type": "markdown",
   "source": "Technical Parameter 2:",
   "id": "34c46f61f978e52"
  },
  {
   "metadata": {},
   "cell_type": "code",
   "source": [
    "TU6_T2_mean = np.asarray(TU6_results.posterior.mean()[f'Total {TU6_Design_System.techincal_risk_tables[1].name} Impact'])\n",
    "\n",
    "TU6_T2_confidence_bounds = np.asarray(az.hdi(TU6_results, hdi_prob=0.95)[f'Total {TU6_Design_System.techincal_risk_tables[1].name} Impact'])"
   ],
   "id": "ad6ce9d0c250a51d",
   "outputs": [],
   "execution_count": null
  },
  {
   "metadata": {},
   "cell_type": "code",
   "source": "TU6_T2_utility_function = T2_utility_function",
   "id": "538e79a1ad647474",
   "outputs": [],
   "execution_count": null
  },
  {
   "metadata": {},
   "cell_type": "code",
   "source": [
    "Mean_T2_Utility_Change = TU6_T2_utility_function(TU6_T2_mean) - TU6_T2_utility_function(T2_mean)\n",
    "\n",
    "LB_T2_Utility_Change = TU6_T2_utility_function(TU6_T2_confidence_bounds[0]) - TU6_T2_utility_function(T2_confidence_bounds[0])\n",
    "\n",
    "UB_T2_Utility_Change = TU6_T2_utility_function(TU6_T2_confidence_bounds[1]) - TU6_T2_utility_function(T2_confidence_bounds[1])\n",
    "\n",
    "print(f'Mean Cost Utility Change: {Mean_T2_Utility_Change:.2f}')\n",
    "\n",
    "print(f'Lower Bound Cost Utility Change: {LB_T2_Utility_Change:.2f}')\n",
    "\n",
    "print(f'Upper Bound Cost Utility Change: {UB_T2_Utility_Change:.2f}')"
   ],
   "id": "ed33caf218d8ccf8",
   "outputs": [],
   "execution_count": null
  },
  {
   "metadata": {},
   "cell_type": "markdown",
   "source": "Technical Parameter 3:",
   "id": "53e6aa5dd38ce156"
  },
  {
   "metadata": {},
   "cell_type": "code",
   "source": [
    "TU6_T3_mean = np.asarray(TU6_results.posterior.mean()[f'Total {TU6_Design_System.techincal_risk_tables[2].name} Impact'])\n",
    "\n",
    "TU6_T3_confidence_bounds = np.asarray(az.hdi(TU6_results, hdi_prob=0.95)[f'Total {TU6_Design_System.techincal_risk_tables[2].name} Impact'])"
   ],
   "id": "b457e8c8081fec8a",
   "outputs": [],
   "execution_count": null
  },
  {
   "metadata": {},
   "cell_type": "code",
   "source": "TU6_T3_utility_function = T3_utility_function",
   "id": "a532bc04449600d8",
   "outputs": [],
   "execution_count": null
  },
  {
   "metadata": {},
   "cell_type": "code",
   "source": [
    "Mean_T3_Utility_Change = TU6_T3_utility_function(TU6_T3_mean) - TU6_T3_utility_function(T3_mean)\n",
    "\n",
    "LB_T3_Utility_Change = TU6_T3_utility_function(TU6_T3_confidence_bounds[0]) - TU6_T3_utility_function(T3_confidence_bounds[0])\n",
    "\n",
    "UB_T3_Utility_Change = TU6_T3_utility_function(TU6_T3_confidence_bounds[1]) - TU6_T3_utility_function(T3_confidence_bounds[1])\n",
    "\n",
    "print(f'Mean Cost Utility Change: {Mean_T3_Utility_Change:.2f}')\n",
    "\n",
    "print(f'Lower Bound Cost Utility Change: {LB_T3_Utility_Change:.2f}')\n",
    "\n",
    "print(f'Upper Bound Cost Utility Change: {UB_T3_Utility_Change:.2f}')"
   ],
   "id": "7e0bc11cdcd156b6",
   "outputs": [],
   "execution_count": null
  },
  {
   "metadata": {},
   "cell_type": "markdown",
   "source": [
    "# Assignment Submission:\n",
    "\n",
    "Once your results are in place for all fo the above elements, print the notebook to a PDF and submit it to Canvas."
   ],
   "id": "eba4c983ff232e2a"
  }
 ],
 "metadata": {
  "kernelspec": {
   "display_name": "Python 3",
   "language": "python",
   "name": "python3"
  },
  "language_info": {
   "codemirror_mode": {
    "name": "ipython",
    "version": 2
   },
   "file_extension": ".py",
   "mimetype": "text/x-python",
   "name": "python",
   "nbconvert_exporter": "python",
   "pygments_lexer": "ipython2",
   "version": "2.7.6"
  }
 },
 "nbformat": 4,
 "nbformat_minor": 5
}
